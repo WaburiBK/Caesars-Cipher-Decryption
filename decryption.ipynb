{
 "cells": [
  {
   "cell_type": "code",
   "execution_count": 1,
   "metadata": {},
   "outputs": [
    {
     "name": "stdout",
     "output_type": "stream",
     "text": [
      "Welcome user to Group 10 C0. LTD. //// Internal Messaging Platform\n",
      "====================================================================================================\n"
     ]
    }
   ],
   "source": [
    "#Welcome message.\n",
    "print (\"Welcome user to Group 10 C0. LTD. //// Internal Messaging Platform\")\n",
    "print (\"====================================================================================================\")\n",
    "# 1. Define the caesar Encrypt. takes 2 parameters - Plaintext to be encrypted and shift no. of postions to shift the letter\n",
    "\n",
    "def caeser_encrypt (plaintext, shift):\n",
    "    ciphertext = \"\" #initialize the cipher text # c to stand for character\n",
    "    for c in plaintext:\n",
    "        if c.isalpha():\n",
    "            shifted_char_index =(ord(c.upper()) - ord('A') - shift)% 26 #subtracting 'A' retains the index range of regular alphabetic(0-25)- likewise %26 takes the remainder when shifted index is divided by 6\n",
    "            ciphertext += chr(shifted_char_index + ord('A')) # convert to character\n",
    "        else:\n",
    "            ciphertext += c #not a letter of the alphabet\n",
    "    return ciphertext"
   ]
  },
  {
   "cell_type": "code",
   "execution_count": 2,
   "metadata": {},
   "outputs": [
    {
     "name": "stdout",
     "output_type": "stream",
     "text": [
      " The encrypted plaintext is: EBIIL TLOIA\n"
     ]
    }
   ],
   "source": [
    "#2. Ask user to enter the plain text and shift, then run the program.\n",
    "plaintext = input(\"Please enter your message\")\n",
    "shift = 3\n",
    "\n",
    "ciphertext = caeser_encrypt(plaintext, shift)\n",
    "print( \" The encrypted plaintext is:\", ciphertext)"
   ]
  },
  {
   "cell_type": "code",
   "execution_count": 3,
   "metadata": {},
   "outputs": [],
   "source": [
    "def caesar_decrypt(ciphertext, shift):\n",
    "    plaintext = \"\"  # Initialize the plaintext\n",
    "    for c in ciphertext:\n",
    "        if c.isalpha():\n",
    "            shifted_char_index = (ord(c.upper()) - ord('A') + shift) % 26  # Add shift to get original index\n",
    "            plaintext += chr(shifted_char_index + ord('A'))  # Convert to character\n",
    "        else:\n",
    "            plaintext += c  # Not a letter of the alphabet\n",
    "    return plaintext"
   ]
  },
  {
   "cell_type": "code",
   "execution_count": 4,
   "metadata": {},
   "outputs": [
    {
     "name": "stdout",
     "output_type": "stream",
     "text": [
      "====================================================================================================\n",
      "The decrypted ciphertext is: ABCDEFGHIJKLMNOPQRSTUVWXYZ\n"
     ]
    }
   ],
   "source": [
    "#print(\"Welcome user to Group 10 C0. LTD. //// Internal Messaging Platform\")\n",
    "print(\"====================================================================================================\")\n",
    "while True:\n",
    "    try:\n",
    "        ciphertext = input(\"Please enter the ciphertext: \")\n",
    "        shift = int(input(\"Please enter the shift value (an integer): \"))\n",
    "        break\n",
    "    except ValueError:\n",
    "        print(\"Invalid input! Please enter an integer for the shift value.\")\n",
    "\n",
    "plaintext = caesar_decrypt(ciphertext, shift)\n",
    "print(\"The decrypted ciphertext is:\", plaintext)"
   ]
  },
  {
   "cell_type": "code",
   "execution_count": 5,
   "metadata": {},
   "outputs": [
    {
     "name": "stdout",
     "output_type": "stream",
     "text": [
      "=====================================================================================================\n",
      "Thank you User for utilizing our Internal Messaging Platform.\n"
     ]
    }
   ],
   "source": [
    "#3 Ending\n",
    "print(\"=====================================================================================================\")\n",
    "print ( \"Thank you User for utilizing our Internal Messaging Platform.\")"
   ]
  }
 ],
 "metadata": {
  "kernelspec": {
   "display_name": "Python 3",
   "language": "python",
   "name": "python3"
  },
  "language_info": {
   "codemirror_mode": {
    "name": "ipython",
    "version": 3
   },
   "file_extension": ".py",
   "mimetype": "text/x-python",
   "name": "python",
   "nbconvert_exporter": "python",
   "pygments_lexer": "ipython3",
   "version": "3.11.3"
  },
  "orig_nbformat": 4
 },
 "nbformat": 4,
 "nbformat_minor": 2
}
